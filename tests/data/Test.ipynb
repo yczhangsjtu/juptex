{
 "cells": [
  {
   "cell_type": "markdown",
   "id": "941aff0e-eab1-4a65-8256-d5070bd7f3bc",
   "metadata": {},
   "source": [
    "# Title"
   ]
  },
  {
   "cell_type": "markdown",
   "id": "31128085-8e8f-4273-ae1c-b1d87240b7d4",
   "metadata": {},
   "source": [
    "## Section One"
   ]
  },
  {
   "cell_type": "markdown",
   "id": "ff5332cc-1887-46fa-98ab-f0941e14aa61",
   "metadata": {},
   "source": [
    "Test paragraph. Test paragraph. Test paragraph.\n",
    "Test paragraph. Test paragraph. Test paragraph."
   ]
  },
  {
   "cell_type": "markdown",
   "id": "b6f086da-9dcc-42ef-b201-a6d35d179ee1",
   "metadata": {},
   "source": [
    "## Section Two"
   ]
  },
  {
   "cell_type": "markdown",
   "id": "3717240e-8f24-4b66-988b-c9894f6d2769",
   "metadata": {},
   "source": [
    "Test paragraph. Test paragraph. Test paragraph."
   ]
  },
  {
   "cell_type": "code",
   "execution_count": null,
   "id": "90a426d5-e441-4c2e-ad7b-76a212df90ab",
   "metadata": {},
   "outputs": [],
   "source": [
    "print(\"Hello\")"
   ]
  },
  {
   "cell_type": "markdown",
   "id": "c3e30259-7100-4bf9-b25a-983fa6109d07",
   "metadata": {},
   "source": [
    "Test List.\n",
    "- Test item 1.\n",
    "- Test item 2.\n",
    "  1. Test enumerate 1.\n",
    "  2. Test enumerate 2."
   ]
  },
  {
   "cell_type": "markdown",
   "id": "f7c3b427-6883-4c50-ae27-9e46dd3088bc",
   "metadata": {},
   "source": [
    "---"
   ]
  },
  {
   "cell_type": "markdown",
   "id": "7ae2a1b0-280d-4456-944b-7c0ccd1dad93",
   "metadata": {},
   "source": [
    "## Code"
   ]
  },
  {
   "cell_type": "code",
   "execution_count": null,
   "id": "b4414e82-0fa8-4077-8d76-6026068352a4",
   "metadata": {},
   "outputs": [],
   "source": [
    "import math\n",
    "print(\"Hello\")\n",
    "a = abs(math.sin(100))"
   ]
  }
 ],
 "metadata": {
  "kernelspec": {
   "display_name": "Python 3 (ipykernel)",
   "language": "python",
   "name": "python3"
  },
  "language_info": {
   "codemirror_mode": {
    "name": "ipython",
    "version": 3
   },
   "file_extension": ".py",
   "mimetype": "text/x-python",
   "name": "python",
   "nbconvert_exporter": "python",
   "pygments_lexer": "ipython3",
   "version": "3.10.8"
  }
 },
 "nbformat": 4,
 "nbformat_minor": 5
}
